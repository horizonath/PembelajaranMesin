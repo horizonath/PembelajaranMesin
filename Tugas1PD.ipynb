{
  "nbformat": 4,
  "nbformat_minor": 0,
  "metadata": {
    "colab": {
      "provenance": []
    },
    "kernelspec": {
      "name": "python3",
      "display_name": "Python 3"
    },
    "language_info": {
      "name": "python"
    }
  },
  "cells": [
    {
      "cell_type": "code",
      "execution_count": 24,
      "metadata": {
        "id": "9ELzWCFxgQb1"
      },
      "outputs": [],
      "source": [
        "import pandas as pd\n",
        "import numpy as np\n",
        "import matplotlib.pyplot as plt\n",
        "import seaborn as sns\n",
        "\n"
      ]
    },
    {
      "cell_type": "code",
      "source": [
        "# Read dataset\n",
        "# Membaca dataset dari file Excel\n",
        "df = pd.read_excel('dataKesehatan.xlsx')\n",
        "\n",
        "# Melihat beberapa baris pertama dari dataset\n",
        "df.head()"
      ],
      "metadata": {
        "colab": {
          "base_uri": "https://localhost:8080/",
          "height": 310
        },
        "id": "nP6jC4m2g3Xv",
        "outputId": "9aa9135a-910d-4734-8a77-02c163439782"
      },
      "execution_count": 25,
      "outputs": [
        {
          "output_type": "execute_result",
          "data": {
            "text/plain": [
              "   NO    NAMA   USIA  PARITAS JARAK KELAHIRAN RIW HIPERTENSI RIW PE OBESITAS  \\\n",
              "0   1  NAMA 1  23 TH        3       < 2 tahun          Tidak  Tidak    Tidak   \n",
              "1   2  NAMA 2  29 TH        2       < 2 tahun          Tidak    PEB    Tidak   \n",
              "2   3  NAMA 3  20 TH        1    anak pertama          Tidak  Tidak    Tidak   \n",
              "3   4  NAMA 4  18 TH        1    anak pertama          Tidak  Tidak    Tidak   \n",
              "4   5  NAMA 5  34 TH        3      > 2 tahun           Tidak  Tidak    Tidak   \n",
              "\n",
              "  RIW DM RIW HIPERTENSI/PE DALAM KELUARGA SOSEK RENDAH PE/Non PE Unnamed: 12  \n",
              "0     Ya                            Tidak         >UMR    Non PE         NaN  \n",
              "1  Tidak                              Ada         >UMR        PE         NaN  \n",
              "2  Tidak                            Tidak         >UMR    Non PE         NaN  \n",
              "3  Tidak                            Tidak         >UMR    Non PE         NaN  \n",
              "4  Tidak                            Tidak         >UMR    Non PE         NaN  "
            ],
            "text/html": [
              "\n",
              "  <div id=\"df-859c61b0-270c-44ca-8990-49710ef109c8\" class=\"colab-df-container\">\n",
              "    <div>\n",
              "<style scoped>\n",
              "    .dataframe tbody tr th:only-of-type {\n",
              "        vertical-align: middle;\n",
              "    }\n",
              "\n",
              "    .dataframe tbody tr th {\n",
              "        vertical-align: top;\n",
              "    }\n",
              "\n",
              "    .dataframe thead th {\n",
              "        text-align: right;\n",
              "    }\n",
              "</style>\n",
              "<table border=\"1\" class=\"dataframe\">\n",
              "  <thead>\n",
              "    <tr style=\"text-align: right;\">\n",
              "      <th></th>\n",
              "      <th>NO</th>\n",
              "      <th>NAMA</th>\n",
              "      <th>USIA</th>\n",
              "      <th>PARITAS</th>\n",
              "      <th>JARAK KELAHIRAN</th>\n",
              "      <th>RIW HIPERTENSI</th>\n",
              "      <th>RIW PE</th>\n",
              "      <th>OBESITAS</th>\n",
              "      <th>RIW DM</th>\n",
              "      <th>RIW HIPERTENSI/PE DALAM KELUARGA</th>\n",
              "      <th>SOSEK RENDAH</th>\n",
              "      <th>PE/Non PE</th>\n",
              "      <th>Unnamed: 12</th>\n",
              "    </tr>\n",
              "  </thead>\n",
              "  <tbody>\n",
              "    <tr>\n",
              "      <th>0</th>\n",
              "      <td>1</td>\n",
              "      <td>NAMA 1</td>\n",
              "      <td>23 TH</td>\n",
              "      <td>3</td>\n",
              "      <td>&lt; 2 tahun</td>\n",
              "      <td>Tidak</td>\n",
              "      <td>Tidak</td>\n",
              "      <td>Tidak</td>\n",
              "      <td>Ya</td>\n",
              "      <td>Tidak</td>\n",
              "      <td>&gt;UMR</td>\n",
              "      <td>Non PE</td>\n",
              "      <td>NaN</td>\n",
              "    </tr>\n",
              "    <tr>\n",
              "      <th>1</th>\n",
              "      <td>2</td>\n",
              "      <td>NAMA 2</td>\n",
              "      <td>29 TH</td>\n",
              "      <td>2</td>\n",
              "      <td>&lt; 2 tahun</td>\n",
              "      <td>Tidak</td>\n",
              "      <td>PEB</td>\n",
              "      <td>Tidak</td>\n",
              "      <td>Tidak</td>\n",
              "      <td>Ada</td>\n",
              "      <td>&gt;UMR</td>\n",
              "      <td>PE</td>\n",
              "      <td>NaN</td>\n",
              "    </tr>\n",
              "    <tr>\n",
              "      <th>2</th>\n",
              "      <td>3</td>\n",
              "      <td>NAMA 3</td>\n",
              "      <td>20 TH</td>\n",
              "      <td>1</td>\n",
              "      <td>anak pertama</td>\n",
              "      <td>Tidak</td>\n",
              "      <td>Tidak</td>\n",
              "      <td>Tidak</td>\n",
              "      <td>Tidak</td>\n",
              "      <td>Tidak</td>\n",
              "      <td>&gt;UMR</td>\n",
              "      <td>Non PE</td>\n",
              "      <td>NaN</td>\n",
              "    </tr>\n",
              "    <tr>\n",
              "      <th>3</th>\n",
              "      <td>4</td>\n",
              "      <td>NAMA 4</td>\n",
              "      <td>18 TH</td>\n",
              "      <td>1</td>\n",
              "      <td>anak pertama</td>\n",
              "      <td>Tidak</td>\n",
              "      <td>Tidak</td>\n",
              "      <td>Tidak</td>\n",
              "      <td>Tidak</td>\n",
              "      <td>Tidak</td>\n",
              "      <td>&gt;UMR</td>\n",
              "      <td>Non PE</td>\n",
              "      <td>NaN</td>\n",
              "    </tr>\n",
              "    <tr>\n",
              "      <th>4</th>\n",
              "      <td>5</td>\n",
              "      <td>NAMA 5</td>\n",
              "      <td>34 TH</td>\n",
              "      <td>3</td>\n",
              "      <td>&gt; 2 tahun</td>\n",
              "      <td>Tidak</td>\n",
              "      <td>Tidak</td>\n",
              "      <td>Tidak</td>\n",
              "      <td>Tidak</td>\n",
              "      <td>Tidak</td>\n",
              "      <td>&gt;UMR</td>\n",
              "      <td>Non PE</td>\n",
              "      <td>NaN</td>\n",
              "    </tr>\n",
              "  </tbody>\n",
              "</table>\n",
              "</div>\n",
              "    <div class=\"colab-df-buttons\">\n",
              "\n",
              "  <div class=\"colab-df-container\">\n",
              "    <button class=\"colab-df-convert\" onclick=\"convertToInteractive('df-859c61b0-270c-44ca-8990-49710ef109c8')\"\n",
              "            title=\"Convert this dataframe to an interactive table.\"\n",
              "            style=\"display:none;\">\n",
              "\n",
              "  <svg xmlns=\"http://www.w3.org/2000/svg\" height=\"24px\" viewBox=\"0 -960 960 960\">\n",
              "    <path d=\"M120-120v-720h720v720H120Zm60-500h600v-160H180v160Zm220 220h160v-160H400v160Zm0 220h160v-160H400v160ZM180-400h160v-160H180v160Zm440 0h160v-160H620v160ZM180-180h160v-160H180v160Zm440 0h160v-160H620v160Z\"/>\n",
              "  </svg>\n",
              "    </button>\n",
              "\n",
              "  <style>\n",
              "    .colab-df-container {\n",
              "      display:flex;\n",
              "      gap: 12px;\n",
              "    }\n",
              "\n",
              "    .colab-df-convert {\n",
              "      background-color: #E8F0FE;\n",
              "      border: none;\n",
              "      border-radius: 50%;\n",
              "      cursor: pointer;\n",
              "      display: none;\n",
              "      fill: #1967D2;\n",
              "      height: 32px;\n",
              "      padding: 0 0 0 0;\n",
              "      width: 32px;\n",
              "    }\n",
              "\n",
              "    .colab-df-convert:hover {\n",
              "      background-color: #E2EBFA;\n",
              "      box-shadow: 0px 1px 2px rgba(60, 64, 67, 0.3), 0px 1px 3px 1px rgba(60, 64, 67, 0.15);\n",
              "      fill: #174EA6;\n",
              "    }\n",
              "\n",
              "    .colab-df-buttons div {\n",
              "      margin-bottom: 4px;\n",
              "    }\n",
              "\n",
              "    [theme=dark] .colab-df-convert {\n",
              "      background-color: #3B4455;\n",
              "      fill: #D2E3FC;\n",
              "    }\n",
              "\n",
              "    [theme=dark] .colab-df-convert:hover {\n",
              "      background-color: #434B5C;\n",
              "      box-shadow: 0px 1px 3px 1px rgba(0, 0, 0, 0.15);\n",
              "      filter: drop-shadow(0px 1px 2px rgba(0, 0, 0, 0.3));\n",
              "      fill: #FFFFFF;\n",
              "    }\n",
              "  </style>\n",
              "\n",
              "    <script>\n",
              "      const buttonEl =\n",
              "        document.querySelector('#df-859c61b0-270c-44ca-8990-49710ef109c8 button.colab-df-convert');\n",
              "      buttonEl.style.display =\n",
              "        google.colab.kernel.accessAllowed ? 'block' : 'none';\n",
              "\n",
              "      async function convertToInteractive(key) {\n",
              "        const element = document.querySelector('#df-859c61b0-270c-44ca-8990-49710ef109c8');\n",
              "        const dataTable =\n",
              "          await google.colab.kernel.invokeFunction('convertToInteractive',\n",
              "                                                    [key], {});\n",
              "        if (!dataTable) return;\n",
              "\n",
              "        const docLinkHtml = 'Like what you see? Visit the ' +\n",
              "          '<a target=\"_blank\" href=https://colab.research.google.com/notebooks/data_table.ipynb>data table notebook</a>'\n",
              "          + ' to learn more about interactive tables.';\n",
              "        element.innerHTML = '';\n",
              "        dataTable['output_type'] = 'display_data';\n",
              "        await google.colab.output.renderOutput(dataTable, element);\n",
              "        const docLink = document.createElement('div');\n",
              "        docLink.innerHTML = docLinkHtml;\n",
              "        element.appendChild(docLink);\n",
              "      }\n",
              "    </script>\n",
              "  </div>\n",
              "\n",
              "\n",
              "<div id=\"df-73d66a9f-7069-46b2-ab91-7ef66b1b00a3\">\n",
              "  <button class=\"colab-df-quickchart\" onclick=\"quickchart('df-73d66a9f-7069-46b2-ab91-7ef66b1b00a3')\"\n",
              "            title=\"Suggest charts\"\n",
              "            style=\"display:none;\">\n",
              "\n",
              "<svg xmlns=\"http://www.w3.org/2000/svg\" height=\"24px\"viewBox=\"0 0 24 24\"\n",
              "     width=\"24px\">\n",
              "    <g>\n",
              "        <path d=\"M19 3H5c-1.1 0-2 .9-2 2v14c0 1.1.9 2 2 2h14c1.1 0 2-.9 2-2V5c0-1.1-.9-2-2-2zM9 17H7v-7h2v7zm4 0h-2V7h2v10zm4 0h-2v-4h2v4z\"/>\n",
              "    </g>\n",
              "</svg>\n",
              "  </button>\n",
              "\n",
              "<style>\n",
              "  .colab-df-quickchart {\n",
              "      --bg-color: #E8F0FE;\n",
              "      --fill-color: #1967D2;\n",
              "      --hover-bg-color: #E2EBFA;\n",
              "      --hover-fill-color: #174EA6;\n",
              "      --disabled-fill-color: #AAA;\n",
              "      --disabled-bg-color: #DDD;\n",
              "  }\n",
              "\n",
              "  [theme=dark] .colab-df-quickchart {\n",
              "      --bg-color: #3B4455;\n",
              "      --fill-color: #D2E3FC;\n",
              "      --hover-bg-color: #434B5C;\n",
              "      --hover-fill-color: #FFFFFF;\n",
              "      --disabled-bg-color: #3B4455;\n",
              "      --disabled-fill-color: #666;\n",
              "  }\n",
              "\n",
              "  .colab-df-quickchart {\n",
              "    background-color: var(--bg-color);\n",
              "    border: none;\n",
              "    border-radius: 50%;\n",
              "    cursor: pointer;\n",
              "    display: none;\n",
              "    fill: var(--fill-color);\n",
              "    height: 32px;\n",
              "    padding: 0;\n",
              "    width: 32px;\n",
              "  }\n",
              "\n",
              "  .colab-df-quickchart:hover {\n",
              "    background-color: var(--hover-bg-color);\n",
              "    box-shadow: 0 1px 2px rgba(60, 64, 67, 0.3), 0 1px 3px 1px rgba(60, 64, 67, 0.15);\n",
              "    fill: var(--button-hover-fill-color);\n",
              "  }\n",
              "\n",
              "  .colab-df-quickchart-complete:disabled,\n",
              "  .colab-df-quickchart-complete:disabled:hover {\n",
              "    background-color: var(--disabled-bg-color);\n",
              "    fill: var(--disabled-fill-color);\n",
              "    box-shadow: none;\n",
              "  }\n",
              "\n",
              "  .colab-df-spinner {\n",
              "    border: 2px solid var(--fill-color);\n",
              "    border-color: transparent;\n",
              "    border-bottom-color: var(--fill-color);\n",
              "    animation:\n",
              "      spin 1s steps(1) infinite;\n",
              "  }\n",
              "\n",
              "  @keyframes spin {\n",
              "    0% {\n",
              "      border-color: transparent;\n",
              "      border-bottom-color: var(--fill-color);\n",
              "      border-left-color: var(--fill-color);\n",
              "    }\n",
              "    20% {\n",
              "      border-color: transparent;\n",
              "      border-left-color: var(--fill-color);\n",
              "      border-top-color: var(--fill-color);\n",
              "    }\n",
              "    30% {\n",
              "      border-color: transparent;\n",
              "      border-left-color: var(--fill-color);\n",
              "      border-top-color: var(--fill-color);\n",
              "      border-right-color: var(--fill-color);\n",
              "    }\n",
              "    40% {\n",
              "      border-color: transparent;\n",
              "      border-right-color: var(--fill-color);\n",
              "      border-top-color: var(--fill-color);\n",
              "    }\n",
              "    60% {\n",
              "      border-color: transparent;\n",
              "      border-right-color: var(--fill-color);\n",
              "    }\n",
              "    80% {\n",
              "      border-color: transparent;\n",
              "      border-right-color: var(--fill-color);\n",
              "      border-bottom-color: var(--fill-color);\n",
              "    }\n",
              "    90% {\n",
              "      border-color: transparent;\n",
              "      border-bottom-color: var(--fill-color);\n",
              "    }\n",
              "  }\n",
              "</style>\n",
              "\n",
              "  <script>\n",
              "    async function quickchart(key) {\n",
              "      const quickchartButtonEl =\n",
              "        document.querySelector('#' + key + ' button');\n",
              "      quickchartButtonEl.disabled = true;  // To prevent multiple clicks.\n",
              "      quickchartButtonEl.classList.add('colab-df-spinner');\n",
              "      try {\n",
              "        const charts = await google.colab.kernel.invokeFunction(\n",
              "            'suggestCharts', [key], {});\n",
              "      } catch (error) {\n",
              "        console.error('Error during call to suggestCharts:', error);\n",
              "      }\n",
              "      quickchartButtonEl.classList.remove('colab-df-spinner');\n",
              "      quickchartButtonEl.classList.add('colab-df-quickchart-complete');\n",
              "    }\n",
              "    (() => {\n",
              "      let quickchartButtonEl =\n",
              "        document.querySelector('#df-73d66a9f-7069-46b2-ab91-7ef66b1b00a3 button');\n",
              "      quickchartButtonEl.style.display =\n",
              "        google.colab.kernel.accessAllowed ? 'block' : 'none';\n",
              "    })();\n",
              "  </script>\n",
              "</div>\n",
              "\n",
              "    </div>\n",
              "  </div>\n"
            ],
            "application/vnd.google.colaboratory.intrinsic+json": {
              "type": "dataframe",
              "variable_name": "df",
              "summary": "{\n  \"name\": \"df\",\n  \"rows\": 561,\n  \"fields\": [\n    {\n      \"column\": \"NO\",\n      \"properties\": {\n        \"dtype\": \"number\",\n        \"std\": 162,\n        \"min\": 1,\n        \"max\": 562,\n        \"num_unique_values\": 561,\n        \"samples\": [\n          515,\n          344,\n          179\n        ],\n        \"semantic_type\": \"\",\n        \"description\": \"\"\n      }\n    },\n    {\n      \"column\": \"NAMA\",\n      \"properties\": {\n        \"dtype\": \"string\",\n        \"num_unique_values\": 561,\n        \"samples\": [\n          \"NAMA 514\",\n          \"NAMA 343\",\n          \"NAMA 178\"\n        ],\n        \"semantic_type\": \"\",\n        \"description\": \"\"\n      }\n    },\n    {\n      \"column\": \"USIA\",\n      \"properties\": {\n        \"dtype\": \"category\",\n        \"num_unique_values\": 72,\n        \"samples\": [\n          \"34 TH\",\n          \"19 th \",\n          \"27 TH\"\n        ],\n        \"semantic_type\": \"\",\n        \"description\": \"\"\n      }\n    },\n    {\n      \"column\": \"PARITAS\",\n      \"properties\": {\n        \"dtype\": \"number\",\n        \"std\": 1,\n        \"min\": 0,\n        \"max\": 6,\n        \"num_unique_values\": 7,\n        \"samples\": [\n          3,\n          2,\n          5\n        ],\n        \"semantic_type\": \"\",\n        \"description\": \"\"\n      }\n    },\n    {\n      \"column\": \"JARAK KELAHIRAN\",\n      \"properties\": {\n        \"dtype\": \"category\",\n        \"num_unique_values\": 4,\n        \"samples\": [\n          \"anak pertama\",\n          \"> 2 tahun\",\n          \"< 2 tahun\"\n        ],\n        \"semantic_type\": \"\",\n        \"description\": \"\"\n      }\n    },\n    {\n      \"column\": \"RIW HIPERTENSI\",\n      \"properties\": {\n        \"dtype\": \"category\",\n        \"num_unique_values\": 2,\n        \"samples\": [\n          \"Ya\",\n          \"Tidak\"\n        ],\n        \"semantic_type\": \"\",\n        \"description\": \"\"\n      }\n    },\n    {\n      \"column\": \"RIW PE\",\n      \"properties\": {\n        \"dtype\": \"category\",\n        \"num_unique_values\": 11,\n        \"samples\": [\n          \"impending eklamsia\",\n          \"Tidak\"\n        ],\n        \"semantic_type\": \"\",\n        \"description\": \"\"\n      }\n    },\n    {\n      \"column\": \"OBESITAS\",\n      \"properties\": {\n        \"dtype\": \"category\",\n        \"num_unique_values\": 2,\n        \"samples\": [\n          \"Ya\",\n          \"Tidak\"\n        ],\n        \"semantic_type\": \"\",\n        \"description\": \"\"\n      }\n    },\n    {\n      \"column\": \"RIW DM\",\n      \"properties\": {\n        \"dtype\": \"category\",\n        \"num_unique_values\": 2,\n        \"samples\": [\n          \"Tidak\",\n          \"Ya\"\n        ],\n        \"semantic_type\": \"\",\n        \"description\": \"\"\n      }\n    },\n    {\n      \"column\": \"RIW HIPERTENSI/PE DALAM KELUARGA\",\n      \"properties\": {\n        \"dtype\": \"category\",\n        \"num_unique_values\": 2,\n        \"samples\": [\n          \"Ada\",\n          \"Tidak\"\n        ],\n        \"semantic_type\": \"\",\n        \"description\": \"\"\n      }\n    },\n    {\n      \"column\": \"SOSEK RENDAH\",\n      \"properties\": {\n        \"dtype\": \"category\",\n        \"num_unique_values\": 2,\n        \"samples\": [\n          \"<UMR\",\n          \">UMR\"\n        ],\n        \"semantic_type\": \"\",\n        \"description\": \"\"\n      }\n    },\n    {\n      \"column\": \"PE/Non PE\",\n      \"properties\": {\n        \"dtype\": \"category\",\n        \"num_unique_values\": 7,\n        \"samples\": [\n          \"Non PE\",\n          \"PE\"\n        ],\n        \"semantic_type\": \"\",\n        \"description\": \"\"\n      }\n    },\n    {\n      \"column\": \"Unnamed: 12\",\n      \"properties\": {\n        \"dtype\": \"category\",\n        \"num_unique_values\": 8,\n        \"samples\": [\n          \"HT Ges\",\n          \"infertil 12 tahun\"\n        ],\n        \"semantic_type\": \"\",\n        \"description\": \"\"\n      }\n    }\n  ]\n}"
            }
          },
          "metadata": {},
          "execution_count": 25
        }
      ]
    },
    {
      "cell_type": "code",
      "source": [
        "# Melihat informasi umum tentang dataset\n",
        "print(df.info())\n"
      ],
      "metadata": {
        "colab": {
          "base_uri": "https://localhost:8080/"
        },
        "id": "U0MBYhJ9qx0T",
        "outputId": "0932f003-40f1-426d-cb53-fb51808208ed"
      },
      "execution_count": 27,
      "outputs": [
        {
          "output_type": "stream",
          "name": "stdout",
          "text": [
            "<class 'pandas.core.frame.DataFrame'>\n",
            "RangeIndex: 561 entries, 0 to 560\n",
            "Data columns (total 13 columns):\n",
            " #   Column                            Non-Null Count  Dtype \n",
            "---  ------                            --------------  ----- \n",
            " 0   NO                                561 non-null    int64 \n",
            " 1   NAMA                              561 non-null    object\n",
            " 2   USIA                              558 non-null    object\n",
            " 3   PARITAS                           561 non-null    int64 \n",
            " 4   JARAK KELAHIRAN                   554 non-null    object\n",
            " 5   RIW HIPERTENSI                    561 non-null    object\n",
            " 6   RIW PE                            561 non-null    object\n",
            " 7   OBESITAS                          561 non-null    object\n",
            " 8   RIW DM                            561 non-null    object\n",
            " 9   RIW HIPERTENSI/PE DALAM KELUARGA  561 non-null    object\n",
            " 10  SOSEK RENDAH                      561 non-null    object\n",
            " 11  PE/Non PE                         561 non-null    object\n",
            " 12  Unnamed: 12                       11 non-null     object\n",
            "dtypes: int64(2), object(11)\n",
            "memory usage: 57.1+ KB\n",
            "None\n"
          ]
        }
      ]
    },
    {
      "cell_type": "code",
      "source": [
        "# Melihat jumlah nilai yang hilang di setiap kolom\n",
        "print(df.isnull().sum())"
      ],
      "metadata": {
        "colab": {
          "base_uri": "https://localhost:8080/"
        },
        "id": "PJVHID8nRmkK",
        "outputId": "1e65e0a6-f17f-4a0e-a579-b0f3fb194501"
      },
      "execution_count": 28,
      "outputs": [
        {
          "output_type": "stream",
          "name": "stdout",
          "text": [
            "NO                                    0\n",
            "NAMA                                  0\n",
            "USIA                                  3\n",
            "PARITAS                               0\n",
            "JARAK KELAHIRAN                       7\n",
            "RIW HIPERTENSI                        0\n",
            "RIW PE                                0\n",
            "OBESITAS                              0\n",
            "RIW DM                                0\n",
            "RIW HIPERTENSI/PE DALAM KELUARGA      0\n",
            "SOSEK RENDAH                          0\n",
            "PE/Non PE                             0\n",
            "Unnamed: 12                         550\n",
            "dtype: int64\n"
          ]
        }
      ]
    },
    {
      "cell_type": "code",
      "source": [
        "# Menghapus baris yang memiliki nilai kosong\n",
        "df = df.dropna()"
      ],
      "metadata": {
        "id": "C1WxYl8Lq2EV"
      },
      "execution_count": 29,
      "outputs": []
    },
    {
      "cell_type": "code",
      "source": [
        "# Ekstraksi hanya angka dari kolom USIA dan mengonversinya ke tipe float\n",
        "df['USIA'] = df['USIA'].str.extract('(\\d+)').astype(float)\n",
        "\n",
        "# Mengganti nilai NaN di kolom USIA dengan rata-rata kolom tersebut\n",
        "df['USIA'] = df['USIA'].fillna(df['USIA'].mean())\n",
        "\n",
        "# Memastikan tidak ada lagi nilai yang hilang di kolom USIA\n",
        "print(df['USIA'].isnull().sum())  # Output harusnya 0\n",
        "\n",
        "# Melihat 5 baris pertama untuk memastikan perubahan\n",
        "print(df.head())\n"
      ],
      "metadata": {
        "id": "k0ksxNDEq9zp",
        "colab": {
          "base_uri": "https://localhost:8080/"
        },
        "outputId": "cf5cbcb7-70d9-4993-db61-35da3c05a8ec"
      },
      "execution_count": 30,
      "outputs": [
        {
          "output_type": "stream",
          "name": "stdout",
          "text": [
            "0\n",
            "      NO      NAMA    USIA  PARITAS JARAK KELAHIRAN RIW HIPERTENSI  \\\n",
            "11    12   NAMA 12  24.000        1    anak pertama             Ya   \n",
            "28    29   NAMA 29  28.000        2       < 2 tahun             Ya   \n",
            "171  173  NAMA 172  31.000        1    anak pertama          Tidak   \n",
            "228  230  NAMA 229  28.625        1    anak pertama             Ya   \n",
            "438  440  NAMA 439  20.000        1    anak pertama          Tidak   \n",
            "\n",
            "            RIW PE OBESITAS RIW DM RIW HIPERTENSI/PE DALAM KELUARGA  \\\n",
            "11           Tidak    Tidak  Tidak                            Tidak   \n",
            "28           Tidak    Tidak  Tidak                            Tidak   \n",
            "171          Tidak    Tidak  Tidak                              Ada   \n",
            "228  HELLP SYNDROM    Tidak  Tidak                            Tidak   \n",
            "438          Tidak    Tidak  Tidak                            Tidak   \n",
            "\n",
            "    SOSEK RENDAH PE/Non PE         Unnamed: 12  \n",
            "11          >UMR    Non PE      HT gestasional  \n",
            "28          <UMR    Non PE              HT Ges  \n",
            "171         >UMR    Non PE    infertil 6 tahun  \n",
            "228         >UMR    Non PE                iufd  \n",
            "438         <UMR    Non PE  riw obstetri jelek  \n"
          ]
        }
      ]
    },
    {
      "cell_type": "code",
      "source": [
        "# Mengubah variabel kategori PE/Non PE menjadi numerik\n",
        "df['PE/Non PE'] = df['PE/Non PE'].map({'Non PE': 0, 'PE': 1})"
      ],
      "metadata": {
        "id": "vCwIINEorDE3"
      },
      "execution_count": 31,
      "outputs": []
    },
    {
      "cell_type": "code",
      "source": [
        "# Visualisasi distribusi usia\n",
        "plt.figure(figsize=(8, 6))\n",
        "sns.histplot(df['USIA'], bins=10, kde=True)\n",
        "plt.title('Distribusi Usia')\n",
        "plt.xlabel('Usia')\n",
        "plt.ylabel('Frekuensi')\n",
        "plt.show()\n"
      ],
      "metadata": {
        "colab": {
          "base_uri": "https://localhost:8080/",
          "height": 564
        },
        "id": "WtEZXcUMUhSM",
        "outputId": "f6d16905-b53f-4aef-f960-d48ab9f0dc07"
      },
      "execution_count": 33,
      "outputs": [
        {
          "output_type": "display_data",
          "data": {
            "text/plain": [
              "<Figure size 800x600 with 1 Axes>"
            ],
            "image/png": "[encoded data removed]"
          },
          "metadata": {}
        }
      ]
    },
    {
      "cell_type": "code",
      "source": [
        "# Bar plot untuk variabel PE/Non PE\n",
        "plt.figure(figsize=(6, 4))\n",
        "sns.countplot(x='PE/Non PE', data=df)\n",
        "plt.title('Distribusi PE/Non PE')\n",
        "plt.xlabel('PE/Non PE')\n",
        "plt.ylabel('Jumlah')\n",
        "plt.xticks([0, 1], ['Non PE', 'PE'])\n",
        "plt.show()"
      ],
      "metadata": {
        "colab": {
          "base_uri": "https://localhost:8080/",
          "height": 410
        },
        "id": "Jkd7Q7q-UxOj",
        "outputId": "38291884-4328-41da-c8b5-b8fa4d4c2819"
      },
      "execution_count": 35,
      "outputs": [
        {
          "output_type": "display_data",
          "data": {
            "text/plain": [
              "<Figure size 600x400 with 1 Axes>"
            ],
            "image/png": "[encoded data removed]"
          },
          "metadata": {}
        }
      ]
    },
    {
      "cell_type": "code",
      "source": [
        "# Box plot usia berdasarkan PE/Non PE\n",
        "plt.figure(figsize=(8, 6))\n",
        "sns.boxplot(x='PE/Non PE', y='USIA', data=df)\n",
        "plt.title('Box Plot Usia berdasarkan PE/Non PE')\n",
        "plt.xlabel('PE/Non PE')\n",
        "plt.ylabel('Usia')\n",
        "plt.xticks([0, 1], ['Non PE', 'PE'])\n",
        "plt.show()"
      ],
      "metadata": {
        "colab": {
          "base_uri": "https://localhost:8080/",
          "height": 564
        },
        "id": "_0Yc1bAeU8pg",
        "outputId": "9579f947-3b73-42bb-a508-cce93b3ca567"
      },
      "execution_count": 36,
      "outputs": [
        {
          "output_type": "display_data",
          "data": {
            "text/plain": [
              "<Figure size 800x600 with 1 Axes>"
            ],
            "image/png": "[encoded data removed]"
          },
          "metadata": {}
        }
      ]
    }
  ]
}